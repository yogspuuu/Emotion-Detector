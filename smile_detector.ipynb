{
 "cells": [
  {
   "cell_type": "code",
   "execution_count": null,
   "id": "5e2a1baa-0449-41ac-adc9-e55bd3a02448",
   "metadata": {},
   "outputs": [],
   "source": [
    "import os\n",
    "import cv2\n",
    "import h5py\n",
    "import numpy as np\n",
    "import matplotlib.pyplot as plt\n",
    "from sklearn.model_selection import train_test_split\n",
    "%matplotlib inline\n",
    "\n",
    "from tensorflow.keras.layers import Dense, Input, Dropout,Flatten, Conv2D\n",
    "from tensorflow.keras.layers import BatchNormalization, Activation, MaxPooling2D\n",
    "from tensorflow.keras.models import Model, Sequential\n",
    "from tensorflow.keras.optimizers import Adam\n",
    "\n",
    "import tensorflow as tf\n",
    "print(\"Tensorflow version:\", tf.__version__)"
   ]
  },
  {
   "cell_type": "code",
   "execution_count": null,
   "id": "06570adc",
   "metadata": {},
   "outputs": [],
   "source": [
    "images_train = []\n",
    "labels_train = []\n",
    "for filename in os.listdir('training/non-smile'):\n",
    "    input_image = cv2.imread('training/non-smile/' + filename)\n",
    "    if input_image is not None:\n",
    "        gray = cv2.cvtColor(input_image, cv2.COLOR_BGR2GRAY)\n",
    "        imgdata = np.array(gray)\n",
    "        images_train.append(imgdata)\n",
    "        labels_train.append([0,1])\n",
    "for filename in os.listdir('training/smile'):\n",
    "    input_image = cv2.imread('training/smile/' + filename)\n",
    "    if input_image is not None:\n",
    "        gray = cv2.cvtColor(input_image, cv2.COLOR_BGR2GRAY)\n",
    "        imgdata = np.array(gray)\n",
    "        images_train.append(imgdata)\n",
    "        labels_train.append([1,0])"
   ]
  },
  {
   "cell_type": "code",
   "execution_count": null,
   "id": "0f6801ef-bda3-4f63-a225-91fba3bc9180",
   "metadata": {},
   "outputs": [],
   "source": [
    "fig=plt.figure(figsize=(20,20))\n",
    "nrows = 2\n",
    "ncols = 5\n",
    "smile = 0\n",
    "not_smile = 0\n",
    "for i in range (1, nrows*ncols+1):\n",
    "    index = np.random.randint(0, len(images_train))\n",
    "    img = images_train[index]\n",
    "    if labels_train[index][0] == 1:\n",
    "        title = 'Smile'\n",
    "        smile += 1\n",
    "    else:\n",
    "        title = 'Non-Smile'\n",
    "        not_smile += 1\n",
    "    if i < 6:\n",
    "        fig.add_subplot(1,ncols,i)\n",
    "    else:\n",
    "        fig.add_subplot(2,ncols,i)\n",
    "    plt.imshow(img, cmap='gray')\n",
    "    plt.title(title)\n",
    "\n",
    "plt.show()"
   ]
  },
  {
   "cell_type": "code",
   "execution_count": null,
   "id": "2883ae25-576a-4fe4-a4fa-40858fc9a88c",
   "metadata": {},
   "outputs": [],
   "source": [
    "print('Non-smile images: ' + str(not_smile))\n",
    "print('Smile images: ' + str(smile))"
   ]
  },
  {
   "cell_type": "code",
   "execution_count": null,
   "id": "64e31958-3186-42d4-ab87-90b87c7816fe",
   "metadata": {},
   "outputs": [],
   "source": [
    "x_train, x_validation, y_train, y_validation = train_test_split(images_train, labels_train, test_size=0.1, random_state=1)"
   ]
  },
  {
   "cell_type": "code",
   "execution_count": null,
   "id": "fe2d67b7-7603-461a-bf49-620536e3a820",
   "metadata": {},
   "outputs": [],
   "source": [
    "x_train = np.asarray(x_train)\n",
    "x_train = np.expand_dims(x_train, axis=0)\n",
    "x_train = x_train.reshape(x_train.shape[1], x_train.shape[2], x_train.shape[3], x_train.shape[0])\n",
    "y_train = np.asarray(y_train)\n",
    "\n",
    "x_validation = np.asarray(x_validation)\n",
    "x_validation = np.expand_dims(x_validation, axis=0)\n",
    "x_validation = x_validation.reshape(x_validation.shape[1], x_validation.shape[2], x_validation.shape[3], x_validation.shape[0])\n",
    "y_validation = np.asarray(y_validation)"
   ]
  },
  {
   "cell_type": "code",
   "execution_count": null,
   "id": "5ef5ebf1-5fe7-47f3-87e8-2499ddb22434",
   "metadata": {},
   "outputs": [],
   "source": [
    "# Initialising the CNN\n",
    "model = Sequential()\n",
    "\n",
    "# 1 - Convolution\n",
    "model.add(Conv2D(64, (3, 3), padding='same', input_shape=(64, 64, 1)))\n",
    "model.add(BatchNormalization())\n",
    "model.add(Activation('relu'))\n",
    "model.add(MaxPooling2D(pool_size=(2, 2)))\n",
    "model.add(Dropout(0.25))\n",
    "\n",
    "# Flattening\n",
    "model.add(Flatten())\n",
    "\n",
    "# Fully connected layer 1st layer\n",
    "model.add(Dense(256))\n",
    "model.add(BatchNormalization())\n",
    "model.add(Activation('relu'))\n",
    "model.add(Dropout(0.25))\n",
    "\n",
    "model.add(Dense(2, activation='softmax'))\n",
    "\n",
    "opt = Adam(learning_rate=0.0005)\n",
    "model.compile(optimizer=opt, loss=\"categorical_crossentropy\", metrics=['accuracy'])\n",
    "model.summary()"
   ]
  },
  {
   "cell_type": "code",
   "execution_count": null,
   "id": "0803555d-3a4f-44e4-80c4-8fc254fbadae",
   "metadata": {},
   "outputs": [],
   "source": [
    "%%time\n",
    "epochs = 4\n",
    "history = model.fit(\n",
    "    x_train,\n",
    "    y_train,\n",
    "    epochs = epochs,\n",
    "    validation_data = (x_validation, y_validation)\n",
    ")"
   ]
  },
  {
   "cell_type": "code",
   "execution_count": null,
   "id": "112a34e0-5a02-47f8-a458-f3abe041155a",
   "metadata": {},
   "outputs": [],
   "source": [
    "x_test = np.asarray(images_train)\n",
    "x_test = np.expand_dims(x_test, axis=0)\n",
    "x_test = x_test.reshape(x_test.shape[1], x_test.shape[2], x_test.shape[3], x_test.shape[0])\n",
    "y_test = np.asarray(labels_train)\n",
    "\n",
    "sample_images = x_test[1].reshape(64, 64)\n",
    "plt.imshow(sample_images)"
   ]
  },
  {
   "cell_type": "code",
   "execution_count": null,
   "id": "672f8685-f305-4e37-b308-05302405f3a4",
   "metadata": {},
   "outputs": [],
   "source": [
    "result = model.predict(x_test)\n",
    "np.argmax(result[1])"
   ]
  },
  {
   "cell_type": "code",
   "execution_count": null,
   "id": "119d7bb9-8a28-4e7f-ab59-a39f30ada0df",
   "metadata": {},
   "outputs": [],
   "source": [
    "check_result = []\n",
    "result_sum = 0\n",
    "for result in model.predict(x_test):\n",
    "    check_result.append(result)\n",
    "    result_sum += np.argmax(result)"
   ]
  },
  {
   "cell_type": "code",
   "execution_count": null,
   "id": "afc9140b-fabb-4f45-9d8c-4fcd766dcb80",
   "metadata": {},
   "outputs": [],
   "source": [
    "result_sum\n",
    "check_result"
   ]
  },
  {
   "cell_type": "code",
   "execution_count": null,
   "id": "e32c7b63-2684-4f59-adc1-9270fcd61daf",
   "metadata": {},
   "outputs": [],
   "source": [
    "model_json = model.to_json()\n",
    "with open(\"model.json\", \"w\") as json_file:\n",
    "    json_file.write(model_json)"
   ]
  },
  {
   "cell_type": "code",
   "execution_count": null,
   "id": "4da475cb-798c-445f-948e-856fc5928a79",
   "metadata": {},
   "outputs": [],
   "source": [
    "model.save('model_weights.h5')"
   ]
  }
 ],
 "metadata": {
  "kernelspec": {
   "display_name": "Python 3 (ipykernel)",
   "language": "python",
   "name": "python3"
  },
  "language_info": {
   "codemirror_mode": {
    "name": "ipython",
    "version": 3
   },
   "file_extension": ".py",
   "mimetype": "text/x-python",
   "name": "python",
   "nbconvert_exporter": "python",
   "pygments_lexer": "ipython3",
   "version": "3.9.8"
  }
 },
 "nbformat": 4,
 "nbformat_minor": 5
}
