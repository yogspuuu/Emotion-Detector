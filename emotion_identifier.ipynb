{
 "cells": [
  {
   "cell_type": "code",
   "execution_count": null,
   "id": "2a0d712c",
   "metadata": {},
   "outputs": [],
   "source": [
    "import os\n",
    "import cv2\n",
    "import h5py\n",
    "import numpy as np\n",
    "import matplotlib.pyplot as plt\n",
    "from sklearn.model_selection import train_test_split\n",
    "%matplotlib inline\n",
    "\n",
    "from tensorflow.keras.layers import Dense, Input, Dropout,Flatten, Conv2D\n",
    "from tensorflow.keras.layers import BatchNormalization, Activation, MaxPooling2D\n",
    "from tensorflow.keras.models import Model, Sequential\n",
    "from tensorflow.keras.optimizers import Adam\n",
    "\n",
    "import tensorflow as tf\n",
    "print(\"Tensorflow version:\", tf.__version__)"
   ]
  },
  {
   "cell_type": "code",
   "execution_count": null,
   "id": "1bb958cc",
   "metadata": {},
   "outputs": [],
   "source": [
    "\n",
    "images_train = []\n",
    "labels_train = []\n",
    "for filename in os.listdir('training/angry'):\n",
    "    input_image = cv2.imread('training/angry/' + filename)\n",
    "    if input_image is not None:\n",
    "        gray = cv2.cvtColor(input_image, cv2.COLOR_BGR2GRAY)\n",
    "        imgdata = np.array(gray)\n",
    "        images_train.append(imgdata)\n",
    "        labels_train.append([1, 0, 0, 0])\n",
    "for filename in os.listdir('training/happy'):\n",
    "    input_image = cv2.imread('training/happy/' + filename)\n",
    "    if input_image is not None:\n",
    "        gray = cv2.cvtColor(input_image, cv2.COLOR_BGR2GRAY)\n",
    "        imgdata = np.array(gray)\n",
    "        images_train.append(imgdata)\n",
    "        labels_train.append([0, 1, 0, 0])\n",
    "for filename in os.listdir('training/neutral'):\n",
    "    input_image = cv2.imread('training/neutral/' + filename)\n",
    "    if input_image is not None:\n",
    "        gray = cv2.cvtColor(input_image, cv2.COLOR_BGR2GRAY)\n",
    "        imgdata = np.array(gray)\n",
    "        images_train.append(imgdata)\n",
    "        labels_train.append([0, 0, 1, 0])\n",
    "for filename in os.listdir('training/sad'):\n",
    "    input_image = cv2.imread('training/sad/' + filename)\n",
    "    if input_image is not None:\n",
    "        gray = cv2.cvtColor(input_image, cv2.COLOR_BGR2GRAY)\n",
    "        imgdata = np.array(gray)\n",
    "        images_train.append(imgdata)\n",
    "        labels_train.append([0, 0, 0, 1])\n",
    "print(labels_train)"
   ]
  },
  {
   "cell_type": "code",
   "execution_count": null,
   "id": "0be9628b",
   "metadata": {},
   "outputs": [],
   "source": [
    "fig=plt.figure(figsize=(20,20))\n",
    "\n",
    "nrows = 2\n",
    "ncols = 5\n",
    "happy = 0\n",
    "neutral = 0\n",
    "angry = 0\n",
    "sad = 0\n",
    "\n",
    "for i in range (1, nrows*ncols+1):\n",
    "    index = np.random.randint(0, len(images_train))\n",
    "    img = images_train[index]\n",
    "    if labels_train[index][0] == 1:\n",
    "        title = 'Angry'\n",
    "        angry += 1\n",
    "    elif labels_train[index][1] == 1:\n",
    "        title = 'Happy'\n",
    "        happy += 1\n",
    "    elif labels_train[index][2] == 1:\n",
    "        title = 'Neutral'\n",
    "        neutral += 1\n",
    "    elif labels_train[index][3] == 1:\n",
    "        title = 'Sad'\n",
    "        sad += 1\n",
    "\n",
    "    if i < 6:\n",
    "        fig.add_subplot(1,ncols,i)\n",
    "    else:\n",
    "        fig.add_subplot(2,ncols,i)\n",
    "    plt.imshow(img, cmap='gray')\n",
    "    plt.title(title)\n",
    "\n",
    "plt.show()"
   ]
  },
  {
   "cell_type": "code",
   "execution_count": null,
   "id": "a8d2552f",
   "metadata": {},
   "outputs": [],
   "source": [
    "print('Angry: ' + str(angry))\n",
    "print('Happy: ' + str(happy))\n",
    "print('Neutral: ' + str(neutral))\n",
    "print('Sad: ' + str(sad))"
   ]
  },
  {
   "cell_type": "code",
   "execution_count": null,
   "id": "c69fe91a",
   "metadata": {},
   "outputs": [],
   "source": [
    "\n",
    "x_train, x_validation, y_train, y_validation = train_test_split(images_train, labels_train, test_size=0.1, random_state=1)\n",
    "\n",
    "print(y_train)\n",
    "\n",
    "x_train = np.asarray(x_train)\n",
    "x_train = np.expand_dims(x_train, axis=0)\n",
    "x_train = x_train.reshape(x_train.shape[1], x_train.shape[2], x_train.shape[3], x_train.shape[0])\n",
    "y_train = np.asarray(y_train)\n",
    "\n",
    "x_validation = np.asarray(x_validation)\n",
    "x_validation = np.expand_dims(x_validation, axis=0)\n",
    "x_validation = x_validation.reshape(x_validation.shape[1], x_validation.shape[2], x_validation.shape[3], x_validation.shape[0])\n",
    "y_validation = np.asarray(y_validation)"
   ]
  },
  {
   "cell_type": "code",
   "execution_count": null,
   "id": "ffb9fdca",
   "metadata": {},
   "outputs": [],
   "source": [
    "# Initialising the CNN\n",
    "model = Sequential()\n",
    "\n",
    "# 1 - Convolution\n",
    "model.add(Conv2D(48, (3, 3), padding='same', input_shape=(48, 48, 1)))\n",
    "model.add(BatchNormalization())\n",
    "model.add(Activation('relu'))\n",
    "model.add(MaxPooling2D(pool_size=(2, 2)))\n",
    "model.add(Dropout(0.25))\n",
    "\n",
    "# Flattening\n",
    "model.add(Flatten())\n",
    "\n",
    "# Fully connected layer 1st layer\n",
    "model.add(Dense(256))\n",
    "model.add(BatchNormalization())\n",
    "model.add(Activation('relu'))\n",
    "model.add(Dropout(0.25))\n",
    "\n",
    "model.add(Dense(4, activation='softmax'))\n",
    "\n",
    "opt = Adam(learning_rate=0.0005)\n",
    "model.compile(optimizer=opt, loss=\"categorical_crossentropy\", metrics=['accuracy'])\n",
    "model.summary()"
   ]
  },
  {
   "cell_type": "code",
   "execution_count": null,
   "id": "43173c89",
   "metadata": {},
   "outputs": [],
   "source": [
    "%%time\n",
    "epochs = 20\n",
    "history = model.fit(\n",
    "    x_train,\n",
    "    y_train,\n",
    "    epochs = epochs,\n",
    "    validation_data = (x_validation, y_validation)\n",
    ")"
   ]
  },
  {
   "cell_type": "code",
   "execution_count": null,
   "id": "63c43086",
   "metadata": {},
   "outputs": [],
   "source": [
    "x_test = np.asarray(images_train)\n",
    "x_test = np.expand_dims(x_test, axis=0)\n",
    "x_test = x_test.reshape(x_test.shape[1], x_test.shape[2], x_test.shape[3], x_test.shape[0])\n",
    "y_test = np.asarray(labels_train)"
   ]
  },
  {
   "cell_type": "code",
   "execution_count": null,
   "id": "43c38330",
   "metadata": {},
   "outputs": [],
   "source": [
    "sample_images = x_test[1].reshape(48, 48)\n",
    "plt.imshow(sample_images)"
   ]
  },
  {
   "cell_type": "code",
   "execution_count": null,
   "id": "1b345f83",
   "metadata": {},
   "outputs": [],
   "source": [
    "result = model.predict(x_test)\n",
    "np.argmax(result[1])"
   ]
  },
  {
   "cell_type": "code",
   "execution_count": null,
   "id": "15d4282f",
   "metadata": {},
   "outputs": [],
   "source": [
    "check_result = []\n",
    "result_sum = 0\n",
    "for result in model.predict(x_test):\n",
    "    check_result.append(result)\n",
    "    result_sum += np.argmax(result)\n",
    "result_sum\n",
    "check_result"
   ]
  },
  {
   "cell_type": "code",
   "execution_count": null,
   "id": "4af432b0",
   "metadata": {},
   "outputs": [],
   "source": [
    "model_json = model.to_json()\n",
    "with open(\"utils/model.json\", \"w\") as json_file:\n",
    "    json_file.write(model_json)"
   ]
  },
  {
   "cell_type": "code",
   "execution_count": null,
   "id": "5526bcfe",
   "metadata": {},
   "outputs": [],
   "source": [
    "model.save('utils/model_weights.h5')"
   ]
  },
  {
   "cell_type": "code",
   "execution_count": null,
   "id": "605721d3",
   "metadata": {},
   "outputs": [],
   "source": []
  }
 ],
 "metadata": {
  "kernelspec": {
   "display_name": "Python 3 (ipykernel)",
   "language": "python",
   "name": "python3"
  },
  "language_info": {
   "codemirror_mode": {
    "name": "ipython",
    "version": 3
   },
   "file_extension": ".py",
   "mimetype": "text/x-python",
   "name": "python",
   "nbconvert_exporter": "python",
   "pygments_lexer": "ipython3",
   "version": "3.9.8"
  }
 },
 "nbformat": 4,
 "nbformat_minor": 5
}
